{
 "cells": [
  {
   "cell_type": "code",
   "execution_count": null,
   "metadata": {},
   "outputs": [],
   "source": [
    "import gzip\n",
    "import json\n",
    "import pandas as pd #wa\n",
    "import numpy as np\n",
    "import warnings\n",
    "\n",
    "warnings.filterwarnings(\"ignore\")\n",
    "\n",
    "input_file = gzip.open(\"/deac/csc/classes/csc373/data/assignment_5/steam_reviews.json.gz\")\n",
    "dataset = []\n",
    "for l in input_file:\n",
    "    d = eval(l)\n",
    "    dataset.append(d)\n",
    "input_file.close()\n",
    "\n",
    "print(dataset)\n",
    "\n",
    "# percent_missing = dataset.isnull().sum() * 100 / len(data)\n",
    "# percent_missing.sort_values(ascending=False)\n",
    "\n"
   ]
  },
  {
   "cell_type": "code",
   "execution_count": null,
   "metadata": {},
   "outputs": [],
   "source": [
    "percent_missing_rows = df.isnull().sum(axis=0) / len(df.columns)\n",
    "missing_plt = percent_missing_rows.hist()\n",
    "missing_plt.set_xlabel('Percent missing')\n",
    "missing_plt.set_ylabel('Number of rows')"
   ]
  }
 ],
 "metadata": {
  "kernelspec": {
   "display_name": "Python 3",
   "language": "python",
   "name": "python3"
  },
  "language_info": {
   "codemirror_mode": {
    "name": "ipython",
    "version": 3
   },
   "file_extension": ".py",
   "mimetype": "text/x-python",
   "name": "python",
   "nbconvert_exporter": "python",
   "pygments_lexer": "ipython3",
   "version": "3.11.8"
  }
 },
 "nbformat": 4,
 "nbformat_minor": 2
}
